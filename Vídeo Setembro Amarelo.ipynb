{
 "cells": [
  {
   "cell_type": "code",
   "execution_count": 20,
   "metadata": {},
   "outputs": [
    {
     "name": "stdout",
     "output_type": "stream",
     "text": [
      "\u001b[93m\u001b[1mNesse print, observe foi 'ativado' o amarelo e o negrito. \u001b[0mDepois, o bcolors.ENDC foi usado para resetar a paleta.\n"
     ]
    }
   ],
   "source": [
    "# Esse código te dá a possibilidade de mudar as cores dos seus outputs\n",
    "\n",
    "class bcolors:\n",
    "    YELLOW = '\\033[93m'\n",
    "    ENDC = '\\033[0m'\n",
    "    BOLD = '\\033[1m'\n",
    "    UNDERLINE = '\\033[4m'\n",
    "\n",
    "# Observe o rsultado dos prints\n",
    "\n",
    "print(bcolors.YELLOW + bcolors.BOLD +\n",
    "    \"Nesse print, observe foi 'ativado' o amarelo e o negrito. \" + bcolors.ENDC +\n",
    "    'Depois, o bcolors.ENDC foi usado para resetar a paleta.')\n",
    "\n",
    "# Agora que já temos as cores para os nossos prints, vamos para o próximo passo\n"
   ]
  },
  {
   "cell_type": "code",
   "execution_count": 26,
   "metadata": {},
   "outputs": [],
   "source": [
    "import time   #Essa é a biblioteca usada para mudar o tempo de saída dos prints.\n",
    "def I_Need_Help():   #Definimos a função.\n",
    "    print(bcolors.YELLOW + bcolors.BOLD + 'Oi! Sou o Python!'+ bcolors.ENDC)\n",
    "    time.sleep(2)    #.sleep fez o tempo entre os prints ser de 2 segundos nesse caso!\n",
    "    problem = input(bcolors.ENDC + bcolors.YELLOW + '\\rComo Posso te ajudar?      ')\n",
    "    if problem == 'Não estou me sentindo muito bem':\n",
    "        time.sleep(1)\n",
    "        print(bcolors.YELLOW + bcolors.BOLD +'Você está...', end = '')\n",
    "         # O argumento 'end' dentro do print serviu para concatenar o print seguinte.\n",
    "        time.sleep(2)\n",
    "        print('Você sabe...', end = '')\n",
    "        time.sleep(2)\n",
    "        bcolors.ENDC\n",
    "        print( bcolors.YELLOW + 'Com aquele tipo ruim de pensamento?'+ bcolors.ENDC)\n",
    "        time.sleep(2)\n",
    "        problem2 =  input('\\rPode confiar em mim:      ' )\n",
    "        if problem2 == 'Sim, e não sei o que fazer...':\n",
    "            time.sleep(1)\n",
    "            print(bcolors.YELLOW + bcolors.BOLD +'Você não está sozinho!', end = '')\n",
    "            time.sleep(2)\n",
    "            print(' Arraste para o lado e verá que você tem com quem contar!')\n"
   ]
  },
  {
   "cell_type": "code",
   "execution_count": 29,
   "metadata": {
    "scrolled": true
   },
   "outputs": [
    {
     "name": "stdout",
     "output_type": "stream",
     "text": [
      "\u001b[93m\u001b[1mOi! Sou o Python!\u001b[0m\n",
      "\n",
      "Como Posso te ajudar?      Não estou me sentindo muito bem\n",
      "\u001b[93m\u001b[1mVocê está...Você sabe...\u001b[93mCom aquele tipo ruim de pensamento?\u001b[0m\n",
      "\n",
      "Pode confiar em mim:      Sim, e não sei o que fazer...\n",
      "\u001b[93m\u001b[1mVocê não está sozinho! Arraste para o lado e verá que você tem com quem contar!\n"
     ]
    }
   ],
   "source": [
    "# Agora, é só chamar a função\n",
    "\n",
    "I_Need_Help() "
   ]
  }
 ],
 "metadata": {
  "kernelspec": {
   "display_name": "Python 3 (ipykernel)",
   "language": "python",
   "name": "python3"
  },
  "language_info": {
   "codemirror_mode": {
    "name": "ipython",
    "version": 3
   },
   "file_extension": ".py",
   "mimetype": "text/x-python",
   "name": "python",
   "nbconvert_exporter": "python",
   "pygments_lexer": "ipython3",
   "version": "3.8.9"
  }
 },
 "nbformat": 4,
 "nbformat_minor": 4
}
